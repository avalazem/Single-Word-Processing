{
 "cells": [
  {
   "cell_type": "code",
   "execution_count": null,
   "metadata": {},
   "outputs": [
    {
     "ename": "KeyboardInterrupt",
     "evalue": "",
     "output_type": "error",
     "traceback": [
      "\u001b[31m---------------------------------------------------------------------------\u001b[39m",
      "\u001b[31mKeyboardInterrupt\u001b[39m                         Traceback (most recent call last)",
      "\u001b[36mCell\u001b[39m\u001b[36m \u001b[39m\u001b[32mIn[5]\u001b[39m\u001b[32m, line 13\u001b[39m\n\u001b[32m     11\u001b[39m \u001b[38;5;28;01mfor\u001b[39;00m filename \u001b[38;5;129;01min\u001b[39;00m os.listdir(audio_path):\n\u001b[32m     12\u001b[39m     audio_file_path = os.path.join(audio_path, filename)\n\u001b[32m---> \u001b[39m\u001b[32m13\u001b[39m     audio = \u001b[43mAudioSegment\u001b[49m\u001b[43m.\u001b[49m\u001b[43mfrom_wav\u001b[49m\u001b[43m(\u001b[49m\u001b[43maudio_file_path\u001b[49m\u001b[43m)\u001b[49m\n\u001b[32m     15\u001b[39m     \u001b[38;5;66;03m# Cut the audio to 3 seconds (3000 milliseconds)\u001b[39;00m\n\u001b[32m     16\u001b[39m     shortened_audio = audio[:\u001b[32m3000\u001b[39m]\n",
      "\u001b[36mFile \u001b[39m\u001b[32mc:\\Users\\ali_a\\Desktop\\Single_Word_Processing_Stage\\.venv\\Lib\\site-packages\\pydub\\audio_segment.py:808\u001b[39m, in \u001b[36mAudioSegment.from_wav\u001b[39m\u001b[34m(cls, file, parameters)\u001b[39m\n\u001b[32m    806\u001b[39m \u001b[38;5;129m@classmethod\u001b[39m\n\u001b[32m    807\u001b[39m \u001b[38;5;28;01mdef\u001b[39;00m\u001b[38;5;250m \u001b[39m\u001b[34mfrom_wav\u001b[39m(\u001b[38;5;28mcls\u001b[39m, file, parameters=\u001b[38;5;28;01mNone\u001b[39;00m):\n\u001b[32m--> \u001b[39m\u001b[32m808\u001b[39m     \u001b[38;5;28;01mreturn\u001b[39;00m \u001b[38;5;28;43mcls\u001b[39;49m\u001b[43m.\u001b[49m\u001b[43mfrom_file\u001b[49m\u001b[43m(\u001b[49m\u001b[43mfile\u001b[49m\u001b[43m,\u001b[49m\u001b[43m \u001b[49m\u001b[33;43m'\u001b[39;49m\u001b[33;43mwav\u001b[39;49m\u001b[33;43m'\u001b[39;49m\u001b[43m,\u001b[49m\u001b[43m \u001b[49m\u001b[43mparameters\u001b[49m\u001b[43m=\u001b[49m\u001b[43mparameters\u001b[49m\u001b[43m)\u001b[49m\n",
      "\u001b[36mFile \u001b[39m\u001b[32mc:\\Users\\ali_a\\Desktop\\Single_Word_Processing_Stage\\.venv\\Lib\\site-packages\\pydub\\audio_segment.py:728\u001b[39m, in \u001b[36mAudioSegment.from_file\u001b[39m\u001b[34m(cls, file, format, codec, parameters, start_second, duration, **kwargs)\u001b[39m\n\u001b[32m    726\u001b[39m     info = \u001b[38;5;28;01mNone\u001b[39;00m\n\u001b[32m    727\u001b[39m \u001b[38;5;28;01melse\u001b[39;00m:\n\u001b[32m--> \u001b[39m\u001b[32m728\u001b[39m     info = \u001b[43mmediainfo_json\u001b[49m\u001b[43m(\u001b[49m\u001b[43morig_file\u001b[49m\u001b[43m,\u001b[49m\u001b[43m \u001b[49m\u001b[43mread_ahead_limit\u001b[49m\u001b[43m=\u001b[49m\u001b[43mread_ahead_limit\u001b[49m\u001b[43m)\u001b[49m\n\u001b[32m    729\u001b[39m \u001b[38;5;28;01mif\u001b[39;00m info:\n\u001b[32m    730\u001b[39m     audio_streams = [x \u001b[38;5;28;01mfor\u001b[39;00m x \u001b[38;5;129;01min\u001b[39;00m info[\u001b[33m'\u001b[39m\u001b[33mstreams\u001b[39m\u001b[33m'\u001b[39m]\n\u001b[32m    731\u001b[39m                      \u001b[38;5;28;01mif\u001b[39;00m x[\u001b[33m'\u001b[39m\u001b[33mcodec_type\u001b[39m\u001b[33m'\u001b[39m] == \u001b[33m'\u001b[39m\u001b[33maudio\u001b[39m\u001b[33m'\u001b[39m]\n",
      "\u001b[36mFile \u001b[39m\u001b[32mc:\\Users\\ali_a\\Desktop\\Single_Word_Processing_Stage\\.venv\\Lib\\site-packages\\pydub\\utils.py:274\u001b[39m, in \u001b[36mmediainfo_json\u001b[39m\u001b[34m(filepath, read_ahead_limit)\u001b[39m\n\u001b[32m    271\u001b[39m         file.close()\n\u001b[32m    273\u001b[39m command = [prober, \u001b[33m'\u001b[39m\u001b[33m-of\u001b[39m\u001b[33m'\u001b[39m, \u001b[33m'\u001b[39m\u001b[33mjson\u001b[39m\u001b[33m'\u001b[39m] + command_args\n\u001b[32m--> \u001b[39m\u001b[32m274\u001b[39m res = \u001b[43mPopen\u001b[49m\u001b[43m(\u001b[49m\u001b[43mcommand\u001b[49m\u001b[43m,\u001b[49m\u001b[43m \u001b[49m\u001b[43mstdin\u001b[49m\u001b[43m=\u001b[49m\u001b[43mstdin_parameter\u001b[49m\u001b[43m,\u001b[49m\u001b[43m \u001b[49m\u001b[43mstdout\u001b[49m\u001b[43m=\u001b[49m\u001b[43mPIPE\u001b[49m\u001b[43m,\u001b[49m\u001b[43m \u001b[49m\u001b[43mstderr\u001b[49m\u001b[43m=\u001b[49m\u001b[43mPIPE\u001b[49m\u001b[43m)\u001b[49m\n\u001b[32m    275\u001b[39m output, stderr = res.communicate(\u001b[38;5;28minput\u001b[39m=stdin_data)\n\u001b[32m    276\u001b[39m output = output.decode(\u001b[33m\"\u001b[39m\u001b[33mutf-8\u001b[39m\u001b[33m\"\u001b[39m, \u001b[33m'\u001b[39m\u001b[33mignore\u001b[39m\u001b[33m'\u001b[39m)\n",
      "\u001b[36mFile \u001b[39m\u001b[32mC:\\Program Files\\WindowsApps\\PythonSoftwareFoundation.Python.3.11_3.11.2544.0_x64__qbz5n2kfra8p0\\Lib\\subprocess.py:1026\u001b[39m, in \u001b[36mPopen.__init__\u001b[39m\u001b[34m(self, args, bufsize, executable, stdin, stdout, stderr, preexec_fn, close_fds, shell, cwd, env, universal_newlines, startupinfo, creationflags, restore_signals, start_new_session, pass_fds, user, group, extra_groups, encoding, errors, text, umask, pipesize, process_group)\u001b[39m\n\u001b[32m   1022\u001b[39m         \u001b[38;5;28;01mif\u001b[39;00m \u001b[38;5;28mself\u001b[39m.text_mode:\n\u001b[32m   1023\u001b[39m             \u001b[38;5;28mself\u001b[39m.stderr = io.TextIOWrapper(\u001b[38;5;28mself\u001b[39m.stderr,\n\u001b[32m   1024\u001b[39m                     encoding=encoding, errors=errors)\n\u001b[32m-> \u001b[39m\u001b[32m1026\u001b[39m     \u001b[38;5;28;43mself\u001b[39;49m\u001b[43m.\u001b[49m\u001b[43m_execute_child\u001b[49m\u001b[43m(\u001b[49m\u001b[43margs\u001b[49m\u001b[43m,\u001b[49m\u001b[43m \u001b[49m\u001b[43mexecutable\u001b[49m\u001b[43m,\u001b[49m\u001b[43m \u001b[49m\u001b[43mpreexec_fn\u001b[49m\u001b[43m,\u001b[49m\u001b[43m \u001b[49m\u001b[43mclose_fds\u001b[49m\u001b[43m,\u001b[49m\n\u001b[32m   1027\u001b[39m \u001b[43m                        \u001b[49m\u001b[43mpass_fds\u001b[49m\u001b[43m,\u001b[49m\u001b[43m \u001b[49m\u001b[43mcwd\u001b[49m\u001b[43m,\u001b[49m\u001b[43m \u001b[49m\u001b[43menv\u001b[49m\u001b[43m,\u001b[49m\n\u001b[32m   1028\u001b[39m \u001b[43m                        \u001b[49m\u001b[43mstartupinfo\u001b[49m\u001b[43m,\u001b[49m\u001b[43m \u001b[49m\u001b[43mcreationflags\u001b[49m\u001b[43m,\u001b[49m\u001b[43m \u001b[49m\u001b[43mshell\u001b[49m\u001b[43m,\u001b[49m\n\u001b[32m   1029\u001b[39m \u001b[43m                        \u001b[49m\u001b[43mp2cread\u001b[49m\u001b[43m,\u001b[49m\u001b[43m \u001b[49m\u001b[43mp2cwrite\u001b[49m\u001b[43m,\u001b[49m\n\u001b[32m   1030\u001b[39m \u001b[43m                        \u001b[49m\u001b[43mc2pread\u001b[49m\u001b[43m,\u001b[49m\u001b[43m \u001b[49m\u001b[43mc2pwrite\u001b[49m\u001b[43m,\u001b[49m\n\u001b[32m   1031\u001b[39m \u001b[43m                        \u001b[49m\u001b[43merrread\u001b[49m\u001b[43m,\u001b[49m\u001b[43m \u001b[49m\u001b[43merrwrite\u001b[49m\u001b[43m,\u001b[49m\n\u001b[32m   1032\u001b[39m \u001b[43m                        \u001b[49m\u001b[43mrestore_signals\u001b[49m\u001b[43m,\u001b[49m\n\u001b[32m   1033\u001b[39m \u001b[43m                        \u001b[49m\u001b[43mgid\u001b[49m\u001b[43m,\u001b[49m\u001b[43m \u001b[49m\u001b[43mgids\u001b[49m\u001b[43m,\u001b[49m\u001b[43m \u001b[49m\u001b[43muid\u001b[49m\u001b[43m,\u001b[49m\u001b[43m \u001b[49m\u001b[43mumask\u001b[49m\u001b[43m,\u001b[49m\n\u001b[32m   1034\u001b[39m \u001b[43m                        \u001b[49m\u001b[43mstart_new_session\u001b[49m\u001b[43m,\u001b[49m\u001b[43m \u001b[49m\u001b[43mprocess_group\u001b[49m\u001b[43m)\u001b[49m\n\u001b[32m   1035\u001b[39m \u001b[38;5;28;01mexcept\u001b[39;00m:\n\u001b[32m   1036\u001b[39m     \u001b[38;5;66;03m# Cleanup if the child failed starting.\u001b[39;00m\n\u001b[32m   1037\u001b[39m     \u001b[38;5;28;01mfor\u001b[39;00m f \u001b[38;5;129;01min\u001b[39;00m \u001b[38;5;28mfilter\u001b[39m(\u001b[38;5;28;01mNone\u001b[39;00m, (\u001b[38;5;28mself\u001b[39m.stdin, \u001b[38;5;28mself\u001b[39m.stdout, \u001b[38;5;28mself\u001b[39m.stderr)):\n",
      "\u001b[36mFile \u001b[39m\u001b[32mC:\\Program Files\\WindowsApps\\PythonSoftwareFoundation.Python.3.11_3.11.2544.0_x64__qbz5n2kfra8p0\\Lib\\subprocess.py:1538\u001b[39m, in \u001b[36mPopen._execute_child\u001b[39m\u001b[34m(self, args, executable, preexec_fn, close_fds, pass_fds, cwd, env, startupinfo, creationflags, shell, p2cread, p2cwrite, c2pread, c2pwrite, errread, errwrite, unused_restore_signals, unused_gid, unused_gids, unused_uid, unused_umask, unused_start_new_session, unused_process_group)\u001b[39m\n\u001b[32m   1536\u001b[39m \u001b[38;5;66;03m# Start the process\u001b[39;00m\n\u001b[32m   1537\u001b[39m \u001b[38;5;28;01mtry\u001b[39;00m:\n\u001b[32m-> \u001b[39m\u001b[32m1538\u001b[39m     hp, ht, pid, tid = \u001b[43m_winapi\u001b[49m\u001b[43m.\u001b[49m\u001b[43mCreateProcess\u001b[49m\u001b[43m(\u001b[49m\u001b[43mexecutable\u001b[49m\u001b[43m,\u001b[49m\u001b[43m \u001b[49m\u001b[43margs\u001b[49m\u001b[43m,\u001b[49m\n\u001b[32m   1539\u001b[39m \u001b[43m                             \u001b[49m\u001b[38;5;66;43;03m# no special security\u001b[39;49;00m\n\u001b[32m   1540\u001b[39m \u001b[43m                             \u001b[49m\u001b[38;5;28;43;01mNone\u001b[39;49;00m\u001b[43m,\u001b[49m\u001b[43m \u001b[49m\u001b[38;5;28;43;01mNone\u001b[39;49;00m\u001b[43m,\u001b[49m\n\u001b[32m   1541\u001b[39m \u001b[43m                             \u001b[49m\u001b[38;5;28;43mint\u001b[39;49m\u001b[43m(\u001b[49m\u001b[38;5;129;43;01mnot\u001b[39;49;00m\u001b[43m \u001b[49m\u001b[43mclose_fds\u001b[49m\u001b[43m)\u001b[49m\u001b[43m,\u001b[49m\n\u001b[32m   1542\u001b[39m \u001b[43m                             \u001b[49m\u001b[43mcreationflags\u001b[49m\u001b[43m,\u001b[49m\n\u001b[32m   1543\u001b[39m \u001b[43m                             \u001b[49m\u001b[43menv\u001b[49m\u001b[43m,\u001b[49m\n\u001b[32m   1544\u001b[39m \u001b[43m                             \u001b[49m\u001b[43mcwd\u001b[49m\u001b[43m,\u001b[49m\n\u001b[32m   1545\u001b[39m \u001b[43m                             \u001b[49m\u001b[43mstartupinfo\u001b[49m\u001b[43m)\u001b[49m\n\u001b[32m   1546\u001b[39m \u001b[38;5;28;01mfinally\u001b[39;00m:\n\u001b[32m   1547\u001b[39m     \u001b[38;5;66;03m# Child is launched. Close the parent's copy of those pipe\u001b[39;00m\n\u001b[32m   1548\u001b[39m     \u001b[38;5;66;03m# handles that only the child should have open.  You need\u001b[39;00m\n\u001b[32m   (...)\u001b[39m\u001b[32m   1551\u001b[39m     \u001b[38;5;66;03m# pipe will not close when the child process exits and the\u001b[39;00m\n\u001b[32m   1552\u001b[39m     \u001b[38;5;66;03m# ReadFile will hang.\u001b[39;00m\n\u001b[32m   1553\u001b[39m     \u001b[38;5;28mself\u001b[39m._close_pipe_fds(p2cread, p2cwrite,\n\u001b[32m   1554\u001b[39m                          c2pread, c2pwrite,\n\u001b[32m   1555\u001b[39m                          errread, errwrite)\n",
      "\u001b[31mKeyboardInterrupt\u001b[39m: "
     ]
    }
   ],
   "source": [
    "import os\n",
    "from pydub import AudioSegment\n",
    "\n",
    "audio_path = r\"C:\\Users\\ali_a\\Desktop\\Single_Word_Processing_Stage\\Single_Word_Processing\\Localizer\\Stimuli\\Audio\\Scrambled_Words\\Scrambled\"\n",
    "output_path = r\"C:\\Users\\ali_a\\Desktop\\Single_Word_Processing_Stage\\Single_Word_Processing\\Localizer\\Stimuli\\Audio\\Non-Speech_Sounds_Shortened\"\n",
    "\n",
    "# Create the output directory if it doesn't exist\n",
    "os.makedirs(output_path, exist_ok=True)\n",
    "\n",
    "# Iterate over all files in the audio_path directory\n",
    "for filename in os.listdir(audio_path):\n",
    "    audio_file_path = os.path.join(audio_path, filename)\n",
    "    audio = AudioSegment.from_wav(audio_file_path)\n",
    "    \n",
    "    # Cut the audio to 3 seconds (3000 milliseconds)\n",
    "    shortened_audio = audio[:3000]\n",
    "    \n",
    "    # Save the shortened audio to the output directory\n",
    "    #shortened_audio.export(os.path.join(output_path, filename), format=\"wav\")\n"
   ]
  },
  {
   "cell_type": "code",
   "execution_count": null,
   "metadata": {},
   "outputs": [
    {
     "ename": "",
     "evalue": "",
     "output_type": "error",
     "traceback": [
      "\u001b[1;31mThe Kernel crashed while executing code in the current cell or a previous cell. \n",
      "\u001b[1;31mPlease review the code in the cell(s) to identify a possible cause of the failure. \n",
      "\u001b[1;31mClick <a href='https://aka.ms/vscodeJupyterKernelCrash'>here</a> for more info. \n",
      "\u001b[1;31mView Jupyter <a href='command:jupyter.viewOutput'>log</a> for further details."
     ]
    }
   ],
   "source": [
    "import csv\n",
    "import os \n",
    "import random\n",
    "\n",
    "# Define the CSV file path\n",
    "input_path = r\"C:\\Users\\ali_a\\Desktop\\Single_Word_Processing_Stage\\Single_Word_Processing\\RUN_ME_Pilot_1\\sounds\\animals\"\n",
    "csv_file_path = os.path.join(input_path, 'localizer.csv')\n",
    "\n",
    "# Initialize the onset time\n",
    "onset_time = 2000\n",
    "\n",
    "# Get the list of files and shuffle them\n",
    "files = [f for f in os.listdir(input_path) if not f.endswith('.csv')]\n",
    "random.shuffle(files)\n",
    "\n",
    "# Create and write to the CSV file\n",
    "with open(csv_file_path, mode='w', newline='') as file:\n",
    "    writer = csv.writer(file)\n",
    "    writer.writerow(['onset', 'type', 'stim'])  # Write the header\n",
    "\n",
    "    # Iterate over the shuffled files\n",
    "    for filename in files:\n",
    "        writer.writerow([onset_time, 'sound', filename])\n",
    "        onset_time += 2500  # Increase the onset time by for each file"
   ]
  },
  {
   "cell_type": "code",
   "execution_count": 10,
   "metadata": {},
   "outputs": [
    {
     "name": "stdout",
     "output_type": "stream",
     "text": [
      "Renamed: C:\\Users\\ali_a\\Desktop\\Single_Word_Processing_Stage\\Single_Word_Processing\\Localizer\\RUN_ME_Pilot_1\\sounds\\animals\\bees_faded.wav -> C:\\Users\\ali_a\\Desktop\\Single_Word_Processing_Stage\\Single_Word_Processing\\Localizer\\RUN_ME_Pilot_1\\sounds\\animals\\bees.wav\n",
      "Renamed: C:\\Users\\ali_a\\Desktop\\Single_Word_Processing_Stage\\Single_Word_Processing\\Localizer\\RUN_ME_Pilot_1\\sounds\\animals\\bird_song_faded.wav -> C:\\Users\\ali_a\\Desktop\\Single_Word_Processing_Stage\\Single_Word_Processing\\Localizer\\RUN_ME_Pilot_1\\sounds\\animals\\bird_song.wav\n",
      "Renamed: C:\\Users\\ali_a\\Desktop\\Single_Word_Processing_Stage\\Single_Word_Processing\\Localizer\\RUN_ME_Pilot_1\\sounds\\animals\\buffalo_faded.wav -> C:\\Users\\ali_a\\Desktop\\Single_Word_Processing_Stage\\Single_Word_Processing\\Localizer\\RUN_ME_Pilot_1\\sounds\\animals\\buffalo.wav\n",
      "Renamed: C:\\Users\\ali_a\\Desktop\\Single_Word_Processing_Stage\\Single_Word_Processing\\Localizer\\RUN_ME_Pilot_1\\sounds\\animals\\chicks_faded.wav -> C:\\Users\\ali_a\\Desktop\\Single_Word_Processing_Stage\\Single_Word_Processing\\Localizer\\RUN_ME_Pilot_1\\sounds\\animals\\chicks.wav\n",
      "Renamed: C:\\Users\\ali_a\\Desktop\\Single_Word_Processing_Stage\\Single_Word_Processing\\Localizer\\RUN_ME_Pilot_1\\sounds\\animals\\cicadas_faded.wav -> C:\\Users\\ali_a\\Desktop\\Single_Word_Processing_Stage\\Single_Word_Processing\\Localizer\\RUN_ME_Pilot_1\\sounds\\animals\\cicadas.wav\n",
      "Renamed: C:\\Users\\ali_a\\Desktop\\Single_Word_Processing_Stage\\Single_Word_Processing\\Localizer\\RUN_ME_Pilot_1\\sounds\\animals\\crickets_faded.wav -> C:\\Users\\ali_a\\Desktop\\Single_Word_Processing_Stage\\Single_Word_Processing\\Localizer\\RUN_ME_Pilot_1\\sounds\\animals\\crickets.wav\n",
      "Renamed: C:\\Users\\ali_a\\Desktop\\Single_Word_Processing_Stage\\Single_Word_Processing\\Localizer\\RUN_ME_Pilot_1\\sounds\\animals\\dogs_growling_faded.wav -> C:\\Users\\ali_a\\Desktop\\Single_Word_Processing_Stage\\Single_Word_Processing\\Localizer\\RUN_ME_Pilot_1\\sounds\\animals\\dogs_growling.wav\n",
      "Renamed: C:\\Users\\ali_a\\Desktop\\Single_Word_Processing_Stage\\Single_Word_Processing\\Localizer\\RUN_ME_Pilot_1\\sounds\\animals\\dog_bark_faded.wav -> C:\\Users\\ali_a\\Desktop\\Single_Word_Processing_Stage\\Single_Word_Processing\\Localizer\\RUN_ME_Pilot_1\\sounds\\animals\\dog_bark.wav\n",
      "Renamed: C:\\Users\\ali_a\\Desktop\\Single_Word_Processing_Stage\\Single_Word_Processing\\Localizer\\RUN_ME_Pilot_1\\sounds\\animals\\duck_faded.wav -> C:\\Users\\ali_a\\Desktop\\Single_Word_Processing_Stage\\Single_Word_Processing\\Localizer\\RUN_ME_Pilot_1\\sounds\\animals\\duck.wav\n",
      "Renamed: C:\\Users\\ali_a\\Desktop\\Single_Word_Processing_Stage\\Single_Word_Processing\\Localizer\\RUN_ME_Pilot_1\\sounds\\animals\\elephant_faded.wav -> C:\\Users\\ali_a\\Desktop\\Single_Word_Processing_Stage\\Single_Word_Processing\\Localizer\\RUN_ME_Pilot_1\\sounds\\animals\\elephant.wav\n",
      "Renamed: C:\\Users\\ali_a\\Desktop\\Single_Word_Processing_Stage\\Single_Word_Processing\\Localizer\\RUN_ME_Pilot_1\\sounds\\animals\\fly_faded.wav -> C:\\Users\\ali_a\\Desktop\\Single_Word_Processing_Stage\\Single_Word_Processing\\Localizer\\RUN_ME_Pilot_1\\sounds\\animals\\fly.wav\n",
      "Renamed: C:\\Users\\ali_a\\Desktop\\Single_Word_Processing_Stage\\Single_Word_Processing\\Localizer\\RUN_ME_Pilot_1\\sounds\\animals\\goats_faded.wav -> C:\\Users\\ali_a\\Desktop\\Single_Word_Processing_Stage\\Single_Word_Processing\\Localizer\\RUN_ME_Pilot_1\\sounds\\animals\\goats.wav\n",
      "Renamed: C:\\Users\\ali_a\\Desktop\\Single_Word_Processing_Stage\\Single_Word_Processing\\Localizer\\RUN_ME_Pilot_1\\sounds\\animals\\lambs_faded.wav -> C:\\Users\\ali_a\\Desktop\\Single_Word_Processing_Stage\\Single_Word_Processing\\Localizer\\RUN_ME_Pilot_1\\sounds\\animals\\lambs.wav\n",
      "Renamed: C:\\Users\\ali_a\\Desktop\\Single_Word_Processing_Stage\\Single_Word_Processing\\Localizer\\RUN_ME_Pilot_1\\sounds\\animals\\lion_roar_faded.wav -> C:\\Users\\ali_a\\Desktop\\Single_Word_Processing_Stage\\Single_Word_Processing\\Localizer\\RUN_ME_Pilot_1\\sounds\\animals\\lion_roar.wav\n",
      "Renamed: C:\\Users\\ali_a\\Desktop\\Single_Word_Processing_Stage\\Single_Word_Processing\\Localizer\\RUN_ME_Pilot_1\\sounds\\animals\\monkey_faded.wav -> C:\\Users\\ali_a\\Desktop\\Single_Word_Processing_Stage\\Single_Word_Processing\\Localizer\\RUN_ME_Pilot_1\\sounds\\animals\\monkey.wav\n",
      "Renamed: C:\\Users\\ali_a\\Desktop\\Single_Word_Processing_Stage\\Single_Word_Processing\\Localizer\\RUN_ME_Pilot_1\\sounds\\animals\\parrot_faded.wav -> C:\\Users\\ali_a\\Desktop\\Single_Word_Processing_Stage\\Single_Word_Processing\\Localizer\\RUN_ME_Pilot_1\\sounds\\animals\\parrot.wav\n",
      "Renamed: C:\\Users\\ali_a\\Desktop\\Single_Word_Processing_Stage\\Single_Word_Processing\\Localizer\\RUN_ME_Pilot_1\\sounds\\animals\\pig_faded.wav -> C:\\Users\\ali_a\\Desktop\\Single_Word_Processing_Stage\\Single_Word_Processing\\Localizer\\RUN_ME_Pilot_1\\sounds\\animals\\pig.wav\n",
      "Renamed: C:\\Users\\ali_a\\Desktop\\Single_Word_Processing_Stage\\Single_Word_Processing\\Localizer\\RUN_ME_Pilot_1\\sounds\\animals\\whale_clicks_faded.wav -> C:\\Users\\ali_a\\Desktop\\Single_Word_Processing_Stage\\Single_Word_Processing\\Localizer\\RUN_ME_Pilot_1\\sounds\\animals\\whale_clicks.wav\n",
      "Renamed: C:\\Users\\ali_a\\Desktop\\Single_Word_Processing_Stage\\Single_Word_Processing\\Localizer\\RUN_ME_Pilot_1\\sounds\\animals\\whale_song_faded.wav -> C:\\Users\\ali_a\\Desktop\\Single_Word_Processing_Stage\\Single_Word_Processing\\Localizer\\RUN_ME_Pilot_1\\sounds\\animals\\whale_song.wav\n",
      "Renamed: C:\\Users\\ali_a\\Desktop\\Single_Word_Processing_Stage\\Single_Word_Processing\\Localizer\\RUN_ME_Pilot_1\\sounds\\animals\\zebra_faded.wav -> C:\\Users\\ali_a\\Desktop\\Single_Word_Processing_Stage\\Single_Word_Processing\\Localizer\\RUN_ME_Pilot_1\\sounds\\animals\\zebra.wav\n",
      "Renamed: C:\\Users\\ali_a\\Desktop\\Single_Word_Processing_Stage\\Single_Word_Processing\\Localizer\\RUN_ME_Pilot_1\\sounds\\enviroment\\ambulance_faded.wav -> C:\\Users\\ali_a\\Desktop\\Single_Word_Processing_Stage\\Single_Word_Processing\\Localizer\\RUN_ME_Pilot_1\\sounds\\enviroment\\ambulance.wav\n",
      "Renamed: C:\\Users\\ali_a\\Desktop\\Single_Word_Processing_Stage\\Single_Word_Processing\\Localizer\\RUN_ME_Pilot_1\\sounds\\enviroment\\church_bell_faded.wav -> C:\\Users\\ali_a\\Desktop\\Single_Word_Processing_Stage\\Single_Word_Processing\\Localizer\\RUN_ME_Pilot_1\\sounds\\enviroment\\church_bell.wav\n",
      "Renamed: C:\\Users\\ali_a\\Desktop\\Single_Word_Processing_Stage\\Single_Word_Processing\\Localizer\\RUN_ME_Pilot_1\\sounds\\enviroment\\cuckoo_clock_faded.wav -> C:\\Users\\ali_a\\Desktop\\Single_Word_Processing_Stage\\Single_Word_Processing\\Localizer\\RUN_ME_Pilot_1\\sounds\\enviroment\\cuckoo_clock.wav\n",
      "Renamed: C:\\Users\\ali_a\\Desktop\\Single_Word_Processing_Stage\\Single_Word_Processing\\Localizer\\RUN_ME_Pilot_1\\sounds\\enviroment\\demolition_faded.wav -> C:\\Users\\ali_a\\Desktop\\Single_Word_Processing_Stage\\Single_Word_Processing\\Localizer\\RUN_ME_Pilot_1\\sounds\\enviroment\\demolition.wav\n",
      "Renamed: C:\\Users\\ali_a\\Desktop\\Single_Word_Processing_Stage\\Single_Word_Processing\\Localizer\\RUN_ME_Pilot_1\\sounds\\enviroment\\evening_lake_faded.wav -> C:\\Users\\ali_a\\Desktop\\Single_Word_Processing_Stage\\Single_Word_Processing\\Localizer\\RUN_ME_Pilot_1\\sounds\\enviroment\\evening_lake.wav\n",
      "Renamed: C:\\Users\\ali_a\\Desktop\\Single_Word_Processing_Stage\\Single_Word_Processing\\Localizer\\RUN_ME_Pilot_1\\sounds\\enviroment\\factory_siren_faded.wav -> C:\\Users\\ali_a\\Desktop\\Single_Word_Processing_Stage\\Single_Word_Processing\\Localizer\\RUN_ME_Pilot_1\\sounds\\enviroment\\factory_siren.wav\n",
      "Renamed: C:\\Users\\ali_a\\Desktop\\Single_Word_Processing_Stage\\Single_Word_Processing\\Localizer\\RUN_ME_Pilot_1\\sounds\\enviroment\\fireworks_faded.wav -> C:\\Users\\ali_a\\Desktop\\Single_Word_Processing_Stage\\Single_Word_Processing\\Localizer\\RUN_ME_Pilot_1\\sounds\\enviroment\\fireworks.wav\n",
      "Renamed: C:\\Users\\ali_a\\Desktop\\Single_Word_Processing_Stage\\Single_Word_Processing\\Localizer\\RUN_ME_Pilot_1\\sounds\\enviroment\\footsteps_faded.wav -> C:\\Users\\ali_a\\Desktop\\Single_Word_Processing_Stage\\Single_Word_Processing\\Localizer\\RUN_ME_Pilot_1\\sounds\\enviroment\\footsteps.wav\n",
      "Renamed: C:\\Users\\ali_a\\Desktop\\Single_Word_Processing_Stage\\Single_Word_Processing\\Localizer\\RUN_ME_Pilot_1\\sounds\\enviroment\\geyser_faded.wav -> C:\\Users\\ali_a\\Desktop\\Single_Word_Processing_Stage\\Single_Word_Processing\\Localizer\\RUN_ME_Pilot_1\\sounds\\enviroment\\geyser.wav\n",
      "Renamed: C:\\Users\\ali_a\\Desktop\\Single_Word_Processing_Stage\\Single_Word_Processing\\Localizer\\RUN_ME_Pilot_1\\sounds\\enviroment\\horses_forest_faded.wav -> C:\\Users\\ali_a\\Desktop\\Single_Word_Processing_Stage\\Single_Word_Processing\\Localizer\\RUN_ME_Pilot_1\\sounds\\enviroment\\horses_forest.wav\n",
      "Renamed: C:\\Users\\ali_a\\Desktop\\Single_Word_Processing_Stage\\Single_Word_Processing\\Localizer\\RUN_ME_Pilot_1\\sounds\\enviroment\\horse_gallop_faded.wav -> C:\\Users\\ali_a\\Desktop\\Single_Word_Processing_Stage\\Single_Word_Processing\\Localizer\\RUN_ME_Pilot_1\\sounds\\enviroment\\horse_gallop.wav\n",
      "Renamed: C:\\Users\\ali_a\\Desktop\\Single_Word_Processing_Stage\\Single_Word_Processing\\Localizer\\RUN_ME_Pilot_1\\sounds\\enviroment\\police_siren_faded.wav -> C:\\Users\\ali_a\\Desktop\\Single_Word_Processing_Stage\\Single_Word_Processing\\Localizer\\RUN_ME_Pilot_1\\sounds\\enviroment\\police_siren.wav\n",
      "Renamed: C:\\Users\\ali_a\\Desktop\\Single_Word_Processing_Stage\\Single_Word_Processing\\Localizer\\RUN_ME_Pilot_1\\sounds\\enviroment\\stream_faded.wav -> C:\\Users\\ali_a\\Desktop\\Single_Word_Processing_Stage\\Single_Word_Processing\\Localizer\\RUN_ME_Pilot_1\\sounds\\enviroment\\stream.wav\n",
      "Renamed: C:\\Users\\ali_a\\Desktop\\Single_Word_Processing_Stage\\Single_Word_Processing\\Localizer\\RUN_ME_Pilot_1\\sounds\\enviroment\\telephone_faded.wav -> C:\\Users\\ali_a\\Desktop\\Single_Word_Processing_Stage\\Single_Word_Processing\\Localizer\\RUN_ME_Pilot_1\\sounds\\enviroment\\telephone.wav\n",
      "Renamed: C:\\Users\\ali_a\\Desktop\\Single_Word_Processing_Stage\\Single_Word_Processing\\Localizer\\RUN_ME_Pilot_1\\sounds\\enviroment\\thunder_faded.wav -> C:\\Users\\ali_a\\Desktop\\Single_Word_Processing_Stage\\Single_Word_Processing\\Localizer\\RUN_ME_Pilot_1\\sounds\\enviroment\\thunder.wav\n",
      "Renamed: C:\\Users\\ali_a\\Desktop\\Single_Word_Processing_Stage\\Single_Word_Processing\\Localizer\\RUN_ME_Pilot_1\\sounds\\enviroment\\traffic_faded.wav -> C:\\Users\\ali_a\\Desktop\\Single_Word_Processing_Stage\\Single_Word_Processing\\Localizer\\RUN_ME_Pilot_1\\sounds\\enviroment\\traffic.wav\n",
      "Renamed: C:\\Users\\ali_a\\Desktop\\Single_Word_Processing_Stage\\Single_Word_Processing\\Localizer\\RUN_ME_Pilot_1\\sounds\\enviroment\\train_faded.wav -> C:\\Users\\ali_a\\Desktop\\Single_Word_Processing_Stage\\Single_Word_Processing\\Localizer\\RUN_ME_Pilot_1\\sounds\\enviroment\\train.wav\n",
      "Renamed: C:\\Users\\ali_a\\Desktop\\Single_Word_Processing_Stage\\Single_Word_Processing\\Localizer\\RUN_ME_Pilot_1\\sounds\\enviroment\\walking_on_snow_faded.wav -> C:\\Users\\ali_a\\Desktop\\Single_Word_Processing_Stage\\Single_Word_Processing\\Localizer\\RUN_ME_Pilot_1\\sounds\\enviroment\\walking_on_snow.wav\n",
      "Renamed: C:\\Users\\ali_a\\Desktop\\Single_Word_Processing_Stage\\Single_Word_Processing\\Localizer\\RUN_ME_Pilot_1\\sounds\\enviroment\\waterfall_faded.wav -> C:\\Users\\ali_a\\Desktop\\Single_Word_Processing_Stage\\Single_Word_Processing\\Localizer\\RUN_ME_Pilot_1\\sounds\\enviroment\\waterfall.wav\n",
      "Renamed: C:\\Users\\ali_a\\Desktop\\Single_Word_Processing_Stage\\Single_Word_Processing\\Localizer\\RUN_ME_Pilot_1\\sounds\\enviroment\\wind_faded.wav -> C:\\Users\\ali_a\\Desktop\\Single_Word_Processing_Stage\\Single_Word_Processing\\Localizer\\RUN_ME_Pilot_1\\sounds\\enviroment\\wind.wav\n",
      "Renamed: C:\\Users\\ali_a\\Desktop\\Single_Word_Processing_Stage\\Single_Word_Processing\\Localizer\\RUN_ME_Pilot_1\\sounds\\non_speech\\baby_crying_faded.wav -> C:\\Users\\ali_a\\Desktop\\Single_Word_Processing_Stage\\Single_Word_Processing\\Localizer\\RUN_ME_Pilot_1\\sounds\\non_speech\\baby_crying.wav\n",
      "Renamed: C:\\Users\\ali_a\\Desktop\\Single_Word_Processing_Stage\\Single_Word_Processing\\Localizer\\RUN_ME_Pilot_1\\sounds\\non_speech\\baby_gurgling_faded.wav -> C:\\Users\\ali_a\\Desktop\\Single_Word_Processing_Stage\\Single_Word_Processing\\Localizer\\RUN_ME_Pilot_1\\sounds\\non_speech\\baby_gurgling.wav\n",
      "Renamed: C:\\Users\\ali_a\\Desktop\\Single_Word_Processing_Stage\\Single_Word_Processing\\Localizer\\RUN_ME_Pilot_1\\sounds\\non_speech\\baby_laughing_faded.wav -> C:\\Users\\ali_a\\Desktop\\Single_Word_Processing_Stage\\Single_Word_Processing\\Localizer\\RUN_ME_Pilot_1\\sounds\\non_speech\\baby_laughing.wav\n",
      "Renamed: C:\\Users\\ali_a\\Desktop\\Single_Word_Processing_Stage\\Single_Word_Processing\\Localizer\\RUN_ME_Pilot_1\\sounds\\non_speech\\baby_sneezing_faded.wav -> C:\\Users\\ali_a\\Desktop\\Single_Word_Processing_Stage\\Single_Word_Processing\\Localizer\\RUN_ME_Pilot_1\\sounds\\non_speech\\baby_sneezing.wav\n",
      "Renamed: C:\\Users\\ali_a\\Desktop\\Single_Word_Processing_Stage\\Single_Word_Processing\\Localizer\\RUN_ME_Pilot_1\\sounds\\non_speech\\blowing_nose_faded.wav -> C:\\Users\\ali_a\\Desktop\\Single_Word_Processing_Stage\\Single_Word_Processing\\Localizer\\RUN_ME_Pilot_1\\sounds\\non_speech\\blowing_nose.wav\n",
      "Renamed: C:\\Users\\ali_a\\Desktop\\Single_Word_Processing_Stage\\Single_Word_Processing\\Localizer\\RUN_ME_Pilot_1\\sounds\\non_speech\\coughing_faded.wav -> C:\\Users\\ali_a\\Desktop\\Single_Word_Processing_Stage\\Single_Word_Processing\\Localizer\\RUN_ME_Pilot_1\\sounds\\non_speech\\coughing.wav\n",
      "Renamed: C:\\Users\\ali_a\\Desktop\\Single_Word_Processing_Stage\\Single_Word_Processing\\Localizer\\RUN_ME_Pilot_1\\sounds\\non_speech\\crowd_laughing_faded.wav -> C:\\Users\\ali_a\\Desktop\\Single_Word_Processing_Stage\\Single_Word_Processing\\Localizer\\RUN_ME_Pilot_1\\sounds\\non_speech\\crowd_laughing.wav\n",
      "Renamed: C:\\Users\\ali_a\\Desktop\\Single_Word_Processing_Stage\\Single_Word_Processing\\Localizer\\RUN_ME_Pilot_1\\sounds\\non_speech\\drinking_faded.wav -> C:\\Users\\ali_a\\Desktop\\Single_Word_Processing_Stage\\Single_Word_Processing\\Localizer\\RUN_ME_Pilot_1\\sounds\\non_speech\\drinking.wav\n",
      "Renamed: C:\\Users\\ali_a\\Desktop\\Single_Word_Processing_Stage\\Single_Word_Processing\\Localizer\\RUN_ME_Pilot_1\\sounds\\non_speech\\female_groan_faded.wav -> C:\\Users\\ali_a\\Desktop\\Single_Word_Processing_Stage\\Single_Word_Processing\\Localizer\\RUN_ME_Pilot_1\\sounds\\non_speech\\female_groan.wav\n",
      "Renamed: C:\\Users\\ali_a\\Desktop\\Single_Word_Processing_Stage\\Single_Word_Processing\\Localizer\\RUN_ME_Pilot_1\\sounds\\non_speech\\female_laughing_faded.wav -> C:\\Users\\ali_a\\Desktop\\Single_Word_Processing_Stage\\Single_Word_Processing\\Localizer\\RUN_ME_Pilot_1\\sounds\\non_speech\\female_laughing.wav\n",
      "Renamed: C:\\Users\\ali_a\\Desktop\\Single_Word_Processing_Stage\\Single_Word_Processing\\Localizer\\RUN_ME_Pilot_1\\sounds\\non_speech\\female_scream_faded.wav -> C:\\Users\\ali_a\\Desktop\\Single_Word_Processing_Stage\\Single_Word_Processing\\Localizer\\RUN_ME_Pilot_1\\sounds\\non_speech\\female_scream.wav\n",
      "Renamed: C:\\Users\\ali_a\\Desktop\\Single_Word_Processing_Stage\\Single_Word_Processing\\Localizer\\RUN_ME_Pilot_1\\sounds\\non_speech\\female_sighing_faded.wav -> C:\\Users\\ali_a\\Desktop\\Single_Word_Processing_Stage\\Single_Word_Processing\\Localizer\\RUN_ME_Pilot_1\\sounds\\non_speech\\female_sighing.wav\n",
      "Renamed: C:\\Users\\ali_a\\Desktop\\Single_Word_Processing_Stage\\Single_Word_Processing\\Localizer\\RUN_ME_Pilot_1\\sounds\\non_speech\\female_yawning_faded.wav -> C:\\Users\\ali_a\\Desktop\\Single_Word_Processing_Stage\\Single_Word_Processing\\Localizer\\RUN_ME_Pilot_1\\sounds\\non_speech\\female_yawning.wav\n",
      "Renamed: C:\\Users\\ali_a\\Desktop\\Single_Word_Processing_Stage\\Single_Word_Processing\\Localizer\\RUN_ME_Pilot_1\\sounds\\non_speech\\haida_tribal_singing_faded.wav -> C:\\Users\\ali_a\\Desktop\\Single_Word_Processing_Stage\\Single_Word_Processing\\Localizer\\RUN_ME_Pilot_1\\sounds\\non_speech\\haida_tribal_singing.wav\n",
      "Renamed: C:\\Users\\ali_a\\Desktop\\Single_Word_Processing_Stage\\Single_Word_Processing\\Localizer\\RUN_ME_Pilot_1\\sounds\\non_speech\\male_groan_faded.wav -> C:\\Users\\ali_a\\Desktop\\Single_Word_Processing_Stage\\Single_Word_Processing\\Localizer\\RUN_ME_Pilot_1\\sounds\\non_speech\\male_groan.wav\n",
      "Renamed: C:\\Users\\ali_a\\Desktop\\Single_Word_Processing_Stage\\Single_Word_Processing\\Localizer\\RUN_ME_Pilot_1\\sounds\\non_speech\\male_laughing_faded.wav -> C:\\Users\\ali_a\\Desktop\\Single_Word_Processing_Stage\\Single_Word_Processing\\Localizer\\RUN_ME_Pilot_1\\sounds\\non_speech\\male_laughing.wav\n",
      "Renamed: C:\\Users\\ali_a\\Desktop\\Single_Word_Processing_Stage\\Single_Word_Processing\\Localizer\\RUN_ME_Pilot_1\\sounds\\non_speech\\male_scream_faded.wav -> C:\\Users\\ali_a\\Desktop\\Single_Word_Processing_Stage\\Single_Word_Processing\\Localizer\\RUN_ME_Pilot_1\\sounds\\non_speech\\male_scream.wav\n",
      "Renamed: C:\\Users\\ali_a\\Desktop\\Single_Word_Processing_Stage\\Single_Word_Processing\\Localizer\\RUN_ME_Pilot_1\\sounds\\non_speech\\rowdy_crowd_faded.wav -> C:\\Users\\ali_a\\Desktop\\Single_Word_Processing_Stage\\Single_Word_Processing\\Localizer\\RUN_ME_Pilot_1\\sounds\\non_speech\\rowdy_crowd.wav\n",
      "Renamed: C:\\Users\\ali_a\\Desktop\\Single_Word_Processing_Stage\\Single_Word_Processing\\Localizer\\RUN_ME_Pilot_1\\sounds\\non_speech\\snoring_faded.wav -> C:\\Users\\ali_a\\Desktop\\Single_Word_Processing_Stage\\Single_Word_Processing\\Localizer\\RUN_ME_Pilot_1\\sounds\\non_speech\\snoring.wav\n",
      "Renamed: C:\\Users\\ali_a\\Desktop\\Single_Word_Processing_Stage\\Single_Word_Processing\\Localizer\\RUN_ME_Pilot_1\\sounds\\non_speech\\woman_sobbing_faded.wav -> C:\\Users\\ali_a\\Desktop\\Single_Word_Processing_Stage\\Single_Word_Processing\\Localizer\\RUN_ME_Pilot_1\\sounds\\non_speech\\woman_sobbing.wav\n",
      "Renamed: C:\\Users\\ali_a\\Desktop\\Single_Word_Processing_Stage\\Single_Word_Processing\\Localizer\\RUN_ME_Pilot_1\\sounds\\scrambled_words\\ampline_FEMALE_C_scrambled_faded.wav -> C:\\Users\\ali_a\\Desktop\\Single_Word_Processing_Stage\\Single_Word_Processing\\Localizer\\RUN_ME_Pilot_1\\sounds\\scrambled_words\\ampline_FEMALE_C_scrambled.wav\n",
      "Renamed: C:\\Users\\ali_a\\Desktop\\Single_Word_Processing_Stage\\Single_Word_Processing\\Localizer\\RUN_ME_Pilot_1\\sounds\\scrambled_words\\aquarelle_MALE_G_scrambled_faded.wav -> C:\\Users\\ali_a\\Desktop\\Single_Word_Processing_Stage\\Single_Word_Processing\\Localizer\\RUN_ME_Pilot_1\\sounds\\scrambled_words\\aquarelle_MALE_G_scrambled.wav\n",
      "Renamed: C:\\Users\\ali_a\\Desktop\\Single_Word_Processing_Stage\\Single_Word_Processing\\Localizer\\RUN_ME_Pilot_1\\sounds\\scrambled_words\\barricade_FEMALE_C_scrambled_faded.wav -> C:\\Users\\ali_a\\Desktop\\Single_Word_Processing_Stage\\Single_Word_Processing\\Localizer\\RUN_ME_Pilot_1\\sounds\\scrambled_words\\barricade_FEMALE_C_scrambled.wav\n",
      "Renamed: C:\\Users\\ali_a\\Desktop\\Single_Word_Processing_Stage\\Single_Word_Processing\\Localizer\\RUN_ME_Pilot_1\\sounds\\scrambled_words\\chamelier_FEMALE_C_scrambled_faded.wav -> C:\\Users\\ali_a\\Desktop\\Single_Word_Processing_Stage\\Single_Word_Processing\\Localizer\\RUN_ME_Pilot_1\\sounds\\scrambled_words\\chamelier_FEMALE_C_scrambled.wav\n",
      "Renamed: C:\\Users\\ali_a\\Desktop\\Single_Word_Processing_Stage\\Single_Word_Processing\\Localizer\\RUN_ME_Pilot_1\\sounds\\scrambled_words\\climat_FEMALE_C_scrambled_faded.wav -> C:\\Users\\ali_a\\Desktop\\Single_Word_Processing_Stage\\Single_Word_Processing\\Localizer\\RUN_ME_Pilot_1\\sounds\\scrambled_words\\climat_FEMALE_C_scrambled.wav\n",
      "Renamed: C:\\Users\\ali_a\\Desktop\\Single_Word_Processing_Stage\\Single_Word_Processing\\Localizer\\RUN_ME_Pilot_1\\sounds\\scrambled_words\\concierge_MALE_G_scrambled_faded.wav -> C:\\Users\\ali_a\\Desktop\\Single_Word_Processing_Stage\\Single_Word_Processing\\Localizer\\RUN_ME_Pilot_1\\sounds\\scrambled_words\\concierge_MALE_G_scrambled.wav\n",
      "Renamed: C:\\Users\\ali_a\\Desktop\\Single_Word_Processing_Stage\\Single_Word_Processing\\Localizer\\RUN_ME_Pilot_1\\sounds\\scrambled_words\\demain_FEMALE_C_scrambled_faded.wav -> C:\\Users\\ali_a\\Desktop\\Single_Word_Processing_Stage\\Single_Word_Processing\\Localizer\\RUN_ME_Pilot_1\\sounds\\scrambled_words\\demain_FEMALE_C_scrambled.wav\n",
      "Renamed: C:\\Users\\ali_a\\Desktop\\Single_Word_Processing_Stage\\Single_Word_Processing\\Localizer\\RUN_ME_Pilot_1\\sounds\\scrambled_words\\devinette_FEMALE_C_scrambled_faded.wav -> C:\\Users\\ali_a\\Desktop\\Single_Word_Processing_Stage\\Single_Word_Processing\\Localizer\\RUN_ME_Pilot_1\\sounds\\scrambled_words\\devinette_FEMALE_C_scrambled.wav\n",
      "Renamed: C:\\Users\\ali_a\\Desktop\\Single_Word_Processing_Stage\\Single_Word_Processing\\Localizer\\RUN_ME_Pilot_1\\sounds\\scrambled_words\\dégue_MALE_G_scrambled_faded.wav -> C:\\Users\\ali_a\\Desktop\\Single_Word_Processing_Stage\\Single_Word_Processing\\Localizer\\RUN_ME_Pilot_1\\sounds\\scrambled_words\\dégue_MALE_G_scrambled.wav\n",
      "Renamed: C:\\Users\\ali_a\\Desktop\\Single_Word_Processing_Stage\\Single_Word_Processing\\Localizer\\RUN_ME_Pilot_1\\sounds\\scrambled_words\\friandise_MALE_G_scrambled_faded.wav -> C:\\Users\\ali_a\\Desktop\\Single_Word_Processing_Stage\\Single_Word_Processing\\Localizer\\RUN_ME_Pilot_1\\sounds\\scrambled_words\\friandise_MALE_G_scrambled.wav\n",
      "Renamed: C:\\Users\\ali_a\\Desktop\\Single_Word_Processing_Stage\\Single_Word_Processing\\Localizer\\RUN_ME_Pilot_1\\sounds\\scrambled_words\\logement_MALE_G_scrambled_faded.wav -> C:\\Users\\ali_a\\Desktop\\Single_Word_Processing_Stage\\Single_Word_Processing\\Localizer\\RUN_ME_Pilot_1\\sounds\\scrambled_words\\logement_MALE_G_scrambled.wav\n",
      "Renamed: C:\\Users\\ali_a\\Desktop\\Single_Word_Processing_Stage\\Single_Word_Processing\\Localizer\\RUN_ME_Pilot_1\\sounds\\scrambled_words\\maximale_FEMALE_C_scrambled_faded.wav -> C:\\Users\\ali_a\\Desktop\\Single_Word_Processing_Stage\\Single_Word_Processing\\Localizer\\RUN_ME_Pilot_1\\sounds\\scrambled_words\\maximale_FEMALE_C_scrambled.wav\n",
      "Renamed: C:\\Users\\ali_a\\Desktop\\Single_Word_Processing_Stage\\Single_Word_Processing\\Localizer\\RUN_ME_Pilot_1\\sounds\\scrambled_words\\mouton_MALE_G_scrambled_faded.wav -> C:\\Users\\ali_a\\Desktop\\Single_Word_Processing_Stage\\Single_Word_Processing\\Localizer\\RUN_ME_Pilot_1\\sounds\\scrambled_words\\mouton_MALE_G_scrambled.wav\n",
      "Renamed: C:\\Users\\ali_a\\Desktop\\Single_Word_Processing_Stage\\Single_Word_Processing\\Localizer\\RUN_ME_Pilot_1\\sounds\\scrambled_words\\pauvre_MALE_G_scrambled_faded.wav -> C:\\Users\\ali_a\\Desktop\\Single_Word_Processing_Stage\\Single_Word_Processing\\Localizer\\RUN_ME_Pilot_1\\sounds\\scrambled_words\\pauvre_MALE_G_scrambled.wav\n",
      "Renamed: C:\\Users\\ali_a\\Desktop\\Single_Word_Processing_Stage\\Single_Word_Processing\\Localizer\\RUN_ME_Pilot_1\\sounds\\scrambled_words\\plivie_FEMALE_C_scrambled_faded.wav -> C:\\Users\\ali_a\\Desktop\\Single_Word_Processing_Stage\\Single_Word_Processing\\Localizer\\RUN_ME_Pilot_1\\sounds\\scrambled_words\\plivie_FEMALE_C_scrambled.wav\n",
      "Renamed: C:\\Users\\ali_a\\Desktop\\Single_Word_Processing_Stage\\Single_Word_Processing\\Localizer\\RUN_ME_Pilot_1\\sounds\\scrambled_words\\raciste_MALE_G_scrambled_faded.wav -> C:\\Users\\ali_a\\Desktop\\Single_Word_Processing_Stage\\Single_Word_Processing\\Localizer\\RUN_ME_Pilot_1\\sounds\\scrambled_words\\raciste_MALE_G_scrambled.wav\n",
      "Renamed: C:\\Users\\ali_a\\Desktop\\Single_Word_Processing_Stage\\Single_Word_Processing\\Localizer\\RUN_ME_Pilot_1\\sounds\\scrambled_words\\rapinume_MALE_G_scrambled_faded.wav -> C:\\Users\\ali_a\\Desktop\\Single_Word_Processing_Stage\\Single_Word_Processing\\Localizer\\RUN_ME_Pilot_1\\sounds\\scrambled_words\\rapinume_MALE_G_scrambled.wav\n",
      "Renamed: C:\\Users\\ali_a\\Desktop\\Single_Word_Processing_Stage\\Single_Word_Processing\\Localizer\\RUN_ME_Pilot_1\\sounds\\scrambled_words\\treize_FEMALE_C_scrambled_faded.wav -> C:\\Users\\ali_a\\Desktop\\Single_Word_Processing_Stage\\Single_Word_Processing\\Localizer\\RUN_ME_Pilot_1\\sounds\\scrambled_words\\treize_FEMALE_C_scrambled.wav\n",
      "Renamed: C:\\Users\\ali_a\\Desktop\\Single_Word_Processing_Stage\\Single_Word_Processing\\Localizer\\RUN_ME_Pilot_1\\sounds\\scrambled_words\\tribunal_FEMALE_C_scrambled_faded.wav -> C:\\Users\\ali_a\\Desktop\\Single_Word_Processing_Stage\\Single_Word_Processing\\Localizer\\RUN_ME_Pilot_1\\sounds\\scrambled_words\\tribunal_FEMALE_C_scrambled.wav\n",
      "Renamed: C:\\Users\\ali_a\\Desktop\\Single_Word_Processing_Stage\\Single_Word_Processing\\Localizer\\RUN_ME_Pilot_1\\sounds\\scrambled_words\\vorubile_MALE_G_scrambled_faded.wav -> C:\\Users\\ali_a\\Desktop\\Single_Word_Processing_Stage\\Single_Word_Processing\\Localizer\\RUN_ME_Pilot_1\\sounds\\scrambled_words\\vorubile_MALE_G_scrambled.wav\n"
     ]
    }
   ],
   "source": [
    "import os\n",
    "from pydub import AudioSegment\n",
    "\n",
    "# Iterate over all files in the audio_path directory and its subdirectories\n",
    "for root, _, files in os.walk(audio_path):\n",
    "    for filename in files:\n",
    "        if '_faded' in filename:  # Check if '_faded' is in the filename\n",
    "            old_file_path = os.path.join(root, filename)\n",
    "            new_file_name = filename.replace('_faded', '')  # Remove '_faded' from the filename\n",
    "            new_file_path = os.path.join(root, new_file_name)\n",
    "            os.rename(old_file_path, new_file_path)  # Rename the file\n",
    "            print(f\"Renamed: {old_file_path} -> {new_file_path}\")\n"
   ]
  },
  {
   "cell_type": "code",
   "execution_count": null,
   "metadata": {},
   "outputs": [],
   "source": [
    "import os\n",
    "\n",
    "# Define the folder path\n",
    "folder_path = r\"C:\\Users\\ali_a\\Desktop\\Single_Word_Processing_Stage\\Single_Word_Processing\\Localizer\\RUN_ME_Pilot_1\\sounds\\words\"\n",
    "\n",
    "# Iterate over all files in the folder\n",
    "for file in os.listdir(folder_path):\n",
    "    if file.endswith('_faded.wav'):  # Check if the file ends with '_faded.wav'\n",
    "        file_path = os.path.join(folder_path, file)\n",
    "        os.remove(file_path)  # Delete the file\n",
    "        print(f\"Deleted: {file_path}\")"
   ]
  }
 ],
 "metadata": {
  "kernelspec": {
   "display_name": ".venv",
   "language": "python",
   "name": "python3"
  },
  "language_info": {
   "codemirror_mode": {
    "name": "ipython",
    "version": 3
   },
   "file_extension": ".py",
   "mimetype": "text/x-python",
   "name": "python",
   "nbconvert_exporter": "python",
   "pygments_lexer": "ipython3",
   "version": "3.11.9"
  }
 },
 "nbformat": 4,
 "nbformat_minor": 2
}
