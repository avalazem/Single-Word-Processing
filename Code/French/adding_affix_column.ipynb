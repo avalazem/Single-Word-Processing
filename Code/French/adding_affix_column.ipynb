{
 "cells": [
  {
   "cell_type": "code",
   "execution_count": null,
   "metadata": {},
   "outputs": [
    {
     "ename": "",
     "evalue": "",
     "output_type": "error",
     "traceback": [
      "\u001b[1;31mThe Kernel crashed while executing code in the current cell or a previous cell. \n",
      "\u001b[1;31mPlease review the code in the cell(s) to identify a possible cause of the failure. \n",
      "\u001b[1;31mClick <a href='https://aka.ms/vscodeJupyterKernelCrash'>here</a> for more info. \n",
      "\u001b[1;31mView Jupyter <a href='command:jupyter.viewOutput'>log</a> for further details."
     ]
    }
   ],
   "source": [
    "import pandas as pd\n",
    "\n",
    "affix_df = pd.read_csv(r\"C:\\Users\\ali_a\\Desktop\\Single_Word_Processing_Stage\\Single_Word_Processing\\Random\\Affixes_Sorted - Sheet1.csv\")\n",
    "\n",
    "# Read the CSV files containing the list of words\n",
    "pseudo_path = r\"C:\\Users\\ali_a\\Desktop\\Single_Word_Processing_Stage\\Single_Word_Processing\\Stimuli\\Visual\\French\\french_stimuli - French_Stimuli_Pseudo_Options_Levenshtein.csv\"\n",
    "real_path = r\"C:\\Users\\ali_a\\Desktop\\Single_Word_Processing_Stage\\Single_Word_Processing\\Stimuli\\Visual\\French\\french_stimuli - French_Stimuli_Real_Options.csv\"\n",
    "\n",
    "pseudo_options_df = pd.read_csv(pseudo_path)\n",
    "real_options_df = pd.read_csv(real_path)\n",
    "\n",
    "# Function to check if an affix appears with low frequency in the word\n",
    "def check_affix_frequency(word, affix_df):\n",
    "    low_freq_affixes = affix_df[(affix_df['normalized_freq_0'] < 0.01) | (affix_df['normalized_freq_1'] < 0.01)]\n",
    "    high_freq_affixes = affix_df[(affix_df['normalized_freq_0'] >= 0.01) & (affix_df['normalized_freq_1'] >= 0.01)]\n",
    "    \n",
    "    low_freq_affixes_list = low_freq_affixes['Affix'].dropna().tolist() + low_freq_affixes['Affix.1'].dropna().tolist()\n",
    "    high_freq_affixes_list = high_freq_affixes['Affix'].dropna().tolist() + high_freq_affixes['Affix.1'].dropna().tolist()\n",
    "    \n",
    "    low_freq_affixes_list = [affix.replace('<', '').replace('>', '') for affix in low_freq_affixes_list]\n",
    "    high_freq_affixes_list = [affix.replace('<', '').replace('>', '') for affix in high_freq_affixes_list]\n",
    "    \n",
    "    for affix in high_freq_affixes_list:\n",
    "        if isinstance(word, str) and affix in word:\n",
    "            return '' # not important to mark the high frequency affixes\n",
    "    \n",
    "    for affix in low_freq_affixes_list:\n",
    "        if isinstance(word, str) and affix in word:\n",
    "            return 'low frequency'\n",
    "    \n",
    "    return 'N/A'\n",
    "\n",
    "# Apply the function to the words with complex morphology and create a new column\n",
    "pseudo_options_df['affix_frequency'] = pseudo_options_df.apply(\n",
    "    lambda row: check_affix_frequency(row['Word'], affix_df) if row['Morphology'] == 'complex' else 'N/A', axis=1)\n",
    "real_options_df['affix_frequency'] = real_options_df.apply(\n",
    "    lambda row: check_affix_frequency(row['Word'], affix_df) if row['Morphology'] == 'complex' else 'N/A', axis=1)\n",
    "\n",
    "\n",
    "# Save the updated dataframes to CSV files\n",
    "pseudo_options_df.to_csv(pseudo_path, index=False)\n",
    "real_options_df.to_csv(real_path, index=False)"
   ]
  },
  {
   "cell_type": "code",
   "execution_count": null,
   "metadata": {},
   "outputs": [],
   "source": []
  }
 ],
 "metadata": {
  "kernelspec": {
   "display_name": ".venv",
   "language": "python",
   "name": "python3"
  },
  "language_info": {
   "codemirror_mode": {
    "name": "ipython",
    "version": 3
   },
   "file_extension": ".py",
   "mimetype": "text/x-python",
   "name": "python",
   "nbconvert_exporter": "python",
   "pygments_lexer": "ipython3",
   "version": "3.11.9"
  }
 },
 "nbformat": 4,
 "nbformat_minor": 2
}
