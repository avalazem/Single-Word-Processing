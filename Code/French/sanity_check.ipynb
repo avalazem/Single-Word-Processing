{
 "cells": [
  {
   "cell_type": "code",
   "execution_count": null,
   "metadata": {},
   "outputs": [
    {
     "name": "stdout",
     "output_type": "stream",
     "text": [
      "There are no repeated words in the pseudo words\n",
      "There are no repeated words in the real words\n"
     ]
    }
   ],
   "source": [
    "import pandas as pd\n",
    "\n",
    "pseudo_path = r\"C:\\Users\\ali_a\\Desktop\\Single_Word_Processing_Stage\\Single_Word_Processing\\Stimuli\\Visual\\French\\french_stimuli - French_Stimuli_Pseudo_Options.csv\"\n",
    "real_path = pseudo_path.replace(\"Pseudo\", \"Real\")\n",
    "\n",
    "pseudo_df = pd.read_csv(pseudo_path)\n",
    "real_df = pd.read_csv(real_path)\n",
    "\n",
    "# Check for any repeated words within the pseudo and real words\n",
    "pseudo_repeated = pseudo_df[\"Word\"].duplicated().any()\n",
    "real_repeated = real_df[\"Word\"].duplicated().any()\n",
    "\n",
    "if pseudo_repeated:\n",
    "    print(f\"There are repeated words in the pseudo words: {pseudo_df[pseudo_df['Word'].duplicated()]['Word'].values[0]}\")\n",
    "else:\n",
    "    print(\"There are no repeated words in the pseudo words\")\n",
    "\n",
    "if real_repeated:\n",
    "    print(f\"There are repeated words in the real words: {real_df[real_df['Word'].duplicated()]['Word'].values[0]}\")\n",
    "else:\n",
    "    print(\"There are no repeated words in the real words\")\n",
    "    \n",
    "\n",
    "\n"
   ]
  },
  {
   "cell_type": "code",
   "execution_count": null,
   "metadata": {},
   "outputs": [],
   "source": []
  }
 ],
 "metadata": {
  "kernelspec": {
   "display_name": ".venv",
   "language": "python",
   "name": "python3"
  },
  "language_info": {
   "codemirror_mode": {
    "name": "ipython",
    "version": 3
   },
   "file_extension": ".py",
   "mimetype": "text/x-python",
   "name": "python",
   "nbconvert_exporter": "python",
   "pygments_lexer": "ipython3",
   "version": "3.11.9"
  }
 },
 "nbformat": 4,
 "nbformat_minor": 2
}
