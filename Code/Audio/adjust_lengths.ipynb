{
 "cells": [
  {
   "cell_type": "code",
   "execution_count": 30,
   "metadata": {
    "vscode": {
     "languageId": "markdown"
    }
   },
   "outputs": [
    {
     "name": "stdout",
     "output_type": "stream",
     "text": [
      "Processing complete. Files saved in: C:\\Users\\ali_a\\Desktop\\Single_Word_Processing_Stage\\Single_Word_Processing\\Localizer\\Stimuli\\Audio\\Natural_Sounds\n"
     ]
    }
   ],
   "source": [
    "from pydub import AudioSegment\n",
    "import os\n",
    "\n",
    "# Directory containing audio files\n",
    "audio_dir = r\"C:\\Users\\ali_a\\Desktop\\Single_Word_Processing_Stage\\Single_Word_Processing\\Localizer\\Stimuli\\Audio\\Natural_Sounds\"\n",
    "# Output directory for processed files\n",
    "output_dir = os.path.join(audio_dir)\n",
    "os.makedirs(output_dir, exist_ok=True)\n",
    "\n",
    "# Process each audio file\n",
    "for filename in os.listdir(audio_dir):\n",
    "    if filename.endswith(\".mp3\") or filename.endswith(\".wav\"):  # Adjust extensions as needed\n",
    "        file_path = os.path.join(audio_dir, filename)\n",
    "        audio = AudioSegment.from_file(file_path)\n",
    "\n",
    "        # Check if the audio is longer than 3 seconds\n",
    "        if len(audio) > 3000:  # Duration is in milliseconds\n",
    "            # Extract the middle 1 second and add fade in/out\n",
    "            start_time = (len(audio) - 1000) // 2\n",
    "            shortened_audio = audio[start_time:start_time + 1000].fade_in(200).fade_out(200)\n",
    "\n",
    "            # Save the processed file\n",
    "            output_path = os.path.join(output_dir, filename)\n",
    "            shortened_audio.export(output_path, format=\"mp3\")  # Adjust format as needed\n",
    "\n",
    "print(\"Processing complete. Files saved in:\", output_dir)"
   ]
  },
  {
   "cell_type": "code",
   "execution_count": 23,
   "metadata": {},
   "outputs": [
    {
     "name": "stdout",
     "output_type": "stream",
     "text": [
      "All audio files have been adjusted to 2 second.\n"
     ]
    }
   ],
   "source": [
    "from pydub import AudioSegment\n",
    "import os\n",
    "words_dir = r\"C:\\Users\\ali_a\\Desktop\\Single_Word_Processing_Stage\\Single_Word_Processing\\Localizer\\Stimuli\\Audio\\Scrambled_Words\\Scrambled_Test_2\"\n",
    "\n",
    "# Target length in milliseconds\n",
    "target_length = 2000\n",
    "\n",
    "# Iterate through audio files in the directory\n",
    "for filename in os.listdir(words_dir):\n",
    "    if filename.endswith(\".mp3\") or filename.endswith(\".wav\"):  # Adjust extensions as needed\n",
    "        file_path = os.path.join(words_dir, filename)\n",
    "        audio = AudioSegment.from_file(file_path)\n",
    "        length = len(audio)  # Length in milliseconds\n",
    "\n",
    "        # Extend or trim the audio to the target length\n",
    "        if length < target_length:\n",
    "            padding = (target_length - length) // 2\n",
    "            audio = AudioSegment.silent(duration=padding) + audio + AudioSegment.silent(duration=padding)\n",
    "            # If the padding is not even, add 1 ms to the end\n",
    "            if len(audio) < target_length:\n",
    "                audio += AudioSegment.silent(duration=1)\n",
    "        elif length > target_length:\n",
    "            start_trim = (length - target_length) // 2\n",
    "            audio = audio[start_trim:start_trim + target_length]\n",
    "\n",
    "        # Save the processed file\n",
    "        output_path = os.path.join(words_dir, filename)\n",
    "        audio.export(output_path, format=\"mp3\")  # Adjust format as needed\n",
    "\n",
    "print(\"All audio files have been adjusted to 2 second.\")\n"
   ]
  },
  {
   "cell_type": "code",
   "execution_count": 32,
   "metadata": {},
   "outputs": [
    {
     "name": "stdout",
     "output_type": "stream",
     "text": [
      "Shortest clip: autumn-waltz-174280.mp3, Length: 1000 ms\n",
      "Longest clip: autumn-waltz-174280.mp3, Length: 1000 ms\n"
     ]
    }
   ],
   "source": [
    "import os \n",
    "from pydub import AudioSegment\n",
    "\n",
    "words_dir = r\"C:\\Users\\ali_a\\Desktop\\Single_Word_Processing_Stage\\Single_Word_Processing\\Localizer\\Stimuli\\Audio\\Music\"\n",
    "# Initialize variables to track shortest and longest clip lengths\n",
    "shortest_length = float('inf')\n",
    "longest_length = 0\n",
    "shortest_file = None\n",
    "longest_file = None\n",
    "\n",
    "# Iterate through audio files in the directory\n",
    "for filename in os.listdir(words_dir):\n",
    "    if filename.endswith(\".mp3\") or filename.endswith(\".wav\"):  # Adjust extensions as needed\n",
    "        file_path = os.path.join(words_dir, filename)\n",
    "        audio = AudioSegment.from_file(file_path)\n",
    "        length = len(audio)  # Length in milliseconds\n",
    "\n",
    "        # Update shortest and longest lengths\n",
    "        if length < shortest_length:\n",
    "            shortest_length = length\n",
    "            shortest_file = filename\n",
    "        if length > longest_length:\n",
    "            longest_length = length\n",
    "            longest_file = filename\n",
    "\n",
    "print(f\"Shortest clip: {shortest_file}, Length: {shortest_length} ms\")\n",
    "print(f\"Longest clip: {longest_file}, Length: {longest_length} ms\")\n"
   ]
  },
  {
   "cell_type": "code",
   "execution_count": 3,
   "metadata": {},
   "outputs": [
    {
     "name": "stdout",
     "output_type": "stream",
     "text": [
      "All files have been converted to WAV format with LINEAR16 encoding and saved in: C:\\Users\\ali_a\\Desktop\\Single_Word_Processing_Stage\\Single_Word_Processing\\SWP_Pilot_1\\localizer\\audio_categories\n"
     ]
    }
   ],
   "source": [
    "import os\n",
    "from pydub import AudioSegment\n",
    "# Directory containing audio files to convert\n",
    "output_dir = r\"C:\\Users\\ali_a\\Desktop\\Single_Word_Processing_Stage\\Single_Word_Processing\\SWP_Pilot_1\\localizer\\audio_categories\"\n",
    "os.makedirs(output_dir, exist_ok=True)\n",
    "\n",
    "# Iterate through audio files in the input directory\n",
    "for filename in os.listdir(output_dir):\n",
    "    if filename.endswith(\".mp3\") or filename.endswith(\".wav\"):  # Adjust extensions as needed\n",
    "        file_path = os.path.join(output_dir, filename)\n",
    "        audio = AudioSegment.from_file(file_path)\n",
    "\n",
    "        # Save the file in WAV format with LINEAR16 encoding\n",
    "        output_path = os.path.join(output_dir, os.path.splitext(filename)[0] + \".wav\")\n",
    "        audio.export(output_path, format=\"wav\", codec=\"pcm_s16le\")\n",
    "\n",
    "print(\"All files have been converted to WAV format with LINEAR16 encoding and saved in:\", output_dir)"
   ]
  }
 ],
 "metadata": {
  "kernelspec": {
   "display_name": ".venv",
   "language": "python",
   "name": "python3"
  },
  "language_info": {
   "codemirror_mode": {
    "name": "ipython",
    "version": 3
   },
   "file_extension": ".py",
   "mimetype": "text/x-python",
   "name": "python",
   "nbconvert_exporter": "python",
   "pygments_lexer": "ipython3",
   "version": "3.11.9"
  }
 },
 "nbformat": 4,
 "nbformat_minor": 2
}
